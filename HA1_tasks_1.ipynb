{
 "cells": [
  {
   "cell_type": "markdown",
   "metadata": {},
   "source": [
    "# Social Networks - Assignment 1\n",
    "\n",
    "This **Home Assignment** is **mandatory**, it does count towards your final chance to take part in the exam. This assignment covers sampling from Gnp models as well as efficient data structures used to represent graphs.\n",
    "\n",
    "You can expect numpy and networkx to be installed.\n",
    "\n",
    "## Formalities\n",
    "\n",
    "**Submit in a group of 3-4 people until 12.05.2022 23:59CET. The deadline is strict!**\n",
    "\n",
    "You have the opportunity for an prelim submission until 08.05.2022 23:59 CET. We will run your code once, and you can thus see whether there are small bugs that you might not have expected.\n",
    "\n",
    "## Evaluation and Grading\n",
    "General advice for programming excercises at *CSSH*:\n",
    "Evaluation of your submission is done semi-automatically. Think of it as this notebook being \n",
    "executed once. Afterwards, some test functions are appended to this file and executed respectively.\n",
    "\n",
    "Therefore:\n",
    "* Submit valid _Python3_ code only!\n",
    "* Use external libraries only when specified by task.\n",
    "* Ensure your definitions (functions, classes, methods, variables) follow the specification if\n",
    "  given. The concrete signature of e.g. a function usually can be inferred from task description, \n",
    "  code skeletons and test cases.\n",
    "* Ensure the notebook does not rely on current notebook or system state!\n",
    "  * Use `Kernel --> Restart & Run All` to see if you are using any definitions, variables etc. that \n",
    "    are not in scope anymore.\n",
    "* Keep your code idempotent! Running it or parts of it multiple times must not yield different\n",
    "  results. Minimize usage of global variables.\n",
    "* Ensure your code / notebook terminates in reasonable time.\n",
    "\n",
    "**There's a story behind each of these points! Don't expect us to fix your stuff!**\n",
    "\n",
    "Regarding the scores, you will get no points for a task if:\n",
    "- your function throws an unexpected error (e.g. takes the wrong number of arguments)\n",
    "- gets stuck in an infinite loop\n",
    "- takes much much longer than expected (e.g. >1s to compute the mean of two numbers)\n",
    "- does not produce the desired output (e.g. returns an descendingly sorted list even though we asked for ascending, returns the mean and the std even though we asked for only the mean, prints an output instead of returning it!)"
   ]
  },
  {
   "cell_type": "code",
   "execution_count": 114,
   "metadata": {},
   "outputs": [],
   "source": [
    "# credentials of all team members (you may add or remove members from the list)\n",
    "team_members = [\n",
    "    {\n",
    "        'first_name': 'Supreet',\n",
    "        'last_name': 'Sharma',\n",
    "        'student_id': 416613\n",
    "    },\n",
    "    {\n",
    "        'first_name': 'Chen',\n",
    "        'last_name': 'Xu',\n",
    "        'student_id': 414736\n",
    "    },\n",
    "    {\n",
    "        'first_name': 'Samuel',\n",
    "        'last_name': 'Kwong',\n",
    "        'student_id': 430273\n",
    "    },  \n",
    "    {\n",
    "        'first_name': 'Lorraine',\n",
    "        'last_name': 'Saju',\n",
    "        'student_id': 426927\n",
    "    }  \n",
    "]"
   ]
  },
  {
   "cell_type": "markdown",
   "metadata": {},
   "source": [
    "# Task 1: Efficient sampling of planted partition models (12 points)\n",
    "\n",
    "The overarching goal of this task is to implement a sampling procedure that allows to sample from a planted partition model in time linear to the number of edges in the partition model.\n",
    "\n",
    "## Planted partition model  and  Stochastic block model (SBM)\n",
    "\n",
    "In this course what is referred to as planted partition models is probably more widely known as [stochastic block models (SBMs)](https://en.wikipedia.org/wiki/Stochastic_block_model]). Wikipedia refers to planted partition models as a special case of SBMs where the probability matrix has only two values.\n",
    "\n",
    "We are looking to generate those were the probability matrix is symmetric but can have more than two values.\n",
    "\n",
    "\n",
    "\n"
   ]
  },
  {
   "cell_type": "markdown",
   "metadata": {},
   "source": [
    "### Preamble\n",
    "\n",
    "Some utility functions"
   ]
  },
  {
   "cell_type": "code",
   "execution_count": 115,
   "metadata": {},
   "outputs": [
    {
     "name": "stdout",
     "output_type": "stream",
     "text": [
      "1.22.3\n"
     ]
    }
   ],
   "source": [
    "import numpy as np\n",
    "print(np.__version__)# 1.22.3\n",
    "assert np.__version__.startswith(\"1.22\")\n",
    "# it is important that you use the same numpy version as otherwise you will get different random number streams\n",
    "# and thus none of the examples will look correct"
   ]
  },
  {
   "cell_type": "code",
   "execution_count": 116,
   "metadata": {},
   "outputs": [],
   "source": [
    "from numpy.random import Generator, PCG64\n",
    "\n",
    "def default_rng(i):\n",
    "    return Generator(PCG64(i))"
   ]
  },
  {
   "cell_type": "code",
   "execution_count": 117,
   "metadata": {},
   "outputs": [],
   "source": [
    "def to_array(E, n_rows, n_columns=None):\n",
    "    \"\"\"This function can be used to turn an edge list into a adjacency matrix, useful for visualization\"\"\"\n",
    "    if n_columns is None:\n",
    "        n_columns = n_rows\n",
    "\n",
    "    A = np.zeros((n_rows, n_columns), dtype=int)\n",
    "    for i,j in E:\n",
    "        A[i,j]=1\n",
    "        \n",
    "    return A"
   ]
  },
  {
   "cell_type": "code",
   "execution_count": 118,
   "metadata": {},
   "outputs": [],
   "source": [
    "def prepend_array(A):\n",
    "    s=str(A)\n",
    "    lines = (\"# \"+ s).splitlines()\n",
    "    return \"\\n# \".join(lines)"
   ]
  },
  {
   "cell_type": "markdown",
   "metadata": {},
   "source": [
    "### a) Warmup: Sampling 0-1 matrices where each element exists with fixed probability (3)\n",
    "\n",
    "Use the idea of moving k-steps with a geometrically distributed step size to sample the nonzero elements of a 0-1 matrix. You have seen the trick of moving with geometrically distributed stepsize when discussing the efficient Gnp sampler. This task can be seen as a warmup for the next task which is to essentially implement the Gnp sampler. The shape of the matrix is `n_rows` by  `n_columns`. Notice though that you never actually construct this matrix. Each element in that matrix is 1 with probability `p` and 0 otherwise. To generate random numbers use `.geometric` of the passed in numpy generator sequence `rng`. The function steps through the matrix in a row first order.\n",
    "\n",
    "Return the position of the nonzero elements of that matrix as a list of two-tuples."
   ]
  },
  {
   "cell_type": "code",
   "execution_count": 119,
   "metadata": {},
   "outputs": [],
   "source": [
    "def random_matrix(n_rows, n_columns, p, rng):\n",
    "    E = []\n",
    "    k = rng.geometric(p)\n",
    "    w = -1 + k\n",
    "    while w < n_rows * n_columns:\n",
    "        i = w // n_columns\n",
    "        j = w % n_columns\n",
    "        v = (i,j)\n",
    "        E.append(v)\n",
    "        k = rng.geometric(p)\n",
    "        w = w + k\n",
    "    return E"
   ]
  },
  {
   "cell_type": "code",
   "execution_count": 120,
   "metadata": {},
   "outputs": [],
   "source": [
    "def produce_example_output(n_rows, n_columns, p, seed, show_matrix=True):\n",
    "    E=random_matrix(n_rows,n_columns, p, default_rng(seed))\n",
    "    print(\"#\", E)\n",
    "    print(prepend_array(to_array(E, n_rows, n_columns)))"
   ]
  },
  {
   "cell_type": "code",
   "execution_count": 121,
   "metadata": {},
   "outputs": [
    {
     "name": "stdout",
     "output_type": "stream",
     "text": [
      "# [(0, 0), (0, 1), (0, 2), (1, 0), (1, 1), (1, 2)]\n",
      "# [[1 1 1]\n",
      "#  [1 1 1]]\n"
     ]
    }
   ],
   "source": [
    "# full matrix\n",
    "produce_example_output(2, 3, 1, 1)\n",
    "# [(0, 0), (0, 1), (0, 2), (1, 0), (1, 1), (1, 2)]\n",
    "# [[1 1 1]\n",
    "#  [1 1 1]]"
   ]
  },
  {
   "cell_type": "code",
   "execution_count": 122,
   "metadata": {},
   "outputs": [
    {
     "name": "stdout",
     "output_type": "stream",
     "text": [
      "# []\n",
      "# [[0 0 0 0]\n",
      "#  [0 0 0 0]]\n"
     ]
    }
   ],
   "source": [
    "# empty matrix\n",
    "produce_example_output(2, 4, 0.3, 4)\n",
    "# []\n",
    "# [[0 0 0 0]\n",
    "#  [0 0 0 0]]"
   ]
  },
  {
   "cell_type": "code",
   "execution_count": 123,
   "metadata": {},
   "outputs": [
    {
     "name": "stdout",
     "output_type": "stream",
     "text": [
      "# [(1, 0), (1, 2)]\n",
      "# [[0 0 0 0]\n",
      "#  [1 0 1 0]]\n"
     ]
    }
   ],
   "source": [
    "# some other matrix\n",
    "produce_example_output(2, 4, 0.5, 4)\n",
    "# [(1, 0), (1, 2)]\n",
    "# [[0 0 0 0]\n",
    "#  [1 0 1 0]]"
   ]
  },
  {
   "cell_type": "code",
   "execution_count": 124,
   "metadata": {},
   "outputs": [
    {
     "name": "stdout",
     "output_type": "stream",
     "text": [
      "199480\n",
      "CPU times: user 155 ms, sys: 18.7 ms, total: 174 ms\n",
      "Wall time: 197 ms\n"
     ]
    }
   ],
   "source": [
    "%%time\n",
    "\n",
    "# huge sparse matrix\n",
    "E = random_matrix(100000,200000, 0.00001, default_rng(160))\n",
    "print(len(E)) #199480"
   ]
  },
  {
   "cell_type": "markdown",
   "metadata": {},
   "source": [
    "### b) Gnp sampling with a twist (5)\n",
    "\n",
    "In the lecture you have encountered the pseudocode for the Gnp sampler (see slides \"Sampling efficiently from Gnp\"). As seen in the illustrations that preceede the slide, this sampler traverses the lower triangular matrix in a row first fashion. This has the unfortunate side effect that the edges are not nicely ordered, in this task we will tackle this.\n",
    "\n",
    "You task is to adapt the idea of implementing an efficient Gnp sampler which instead of traversing the lower triangle row first, traverses the **upper**  triangular matrix row first. The function produces an edgelist as result (a list of two-tuples of integers). Notice that now this edge list is sorted.\n",
    "\n",
    "To generate random numbers use `.geometric` of the passed in numpy generator sequence `rng`.\n",
    "\n",
    "Important note:\n",
    "- Using the column first way on the lower triangle does not produce the same graph from the same random number state"
   ]
  },
  {
   "cell_type": "code",
   "execution_count": 125,
   "metadata": {},
   "outputs": [],
   "source": [
    "def Gnp_row_first(n, p, rng):\n",
    "    E = []\n",
    "    pointer_u = -1\n",
    "    pointer_v = 0\n",
    "    k = rng.geometric(p)\n",
    "    max_k = n*(n-1)/2\n",
    "    steps = k\n",
    "    while(pointer_u < n-2 and pointer_v < n and steps <= max_k):\n",
    "        pointer = getNextEdgeUTM((pointer_u, pointer_v), k, n)\n",
    "        pointer_u, pointer_v = pointer\n",
    "        if(pointer_u < n and pointer_v < n):\n",
    "            E.append(pointer)\n",
    "            k = rng.geometric(p)\n",
    "            steps += k\n",
    "    return E\n",
    "\n",
    "def getNextEdgeUTM(pointer, k, n):\n",
    "    u, v = pointer\n",
    "    tempCounter = 0\n",
    "    if u < 0 and k > 0:\n",
    "        u += 1\n",
    "    if(v + k < n):\n",
    "        v += k\n",
    "    else:\n",
    "        u += 1\n",
    "        tempCounter += n - v\n",
    "        v = u + 1\n",
    "        if(k > tempCounter):\n",
    "            return getNextEdgeUTM((u, v), k - tempCounter, n)\n",
    "    newPointer = (u, v)\n",
    "    return newPointer"
   ]
  },
  {
   "cell_type": "code",
   "execution_count": 126,
   "metadata": {},
   "outputs": [
    {
     "name": "stdout",
     "output_type": "stream",
     "text": [
      "# some generated graphs\n",
      "# [(0, 1), (0, 2), (0, 3), (1, 2), (2, 3)]\n",
      "# [(0, 1), (0, 3), (1, 2), (2, 3)]\n",
      "# [(0, 1), (0, 2), (1, 2), (1, 3), (2, 3)]\n",
      "# [(0, 1), (0, 2), (1, 2), (1, 3), (2, 3)]\n",
      "# [(0, 2), (0, 3), (2, 3)]\n",
      "# [(0, 2), (1, 2), (1, 3), (2, 3)]\n",
      "# [(0, 1), (0, 2), (0, 3), (1, 2)]\n",
      "# [(0, 1), (0, 3), (1, 2), (1, 3), (2, 3)]\n",
      "# [(0, 1), (1, 2), (1, 3), (2, 3)]\n",
      "# [(0, 2), (0, 3), (1, 2), (1, 3), (2, 3)]\n"
     ]
    }
   ],
   "source": [
    "print(\"# some generated graphs\")\n",
    "for i in range(10):\n",
    "    rng1 = default_rng(i)\n",
    "    E=Gnp_row_first(4, 0.8, rng1)\n",
    "    print(\"#\", E)\n",
    "\n",
    "# some generated graphs \n",
    "# [(0, 1), (0, 2), (0, 3), (1, 2), (2, 3)]\n",
    "# [(0, 1), (0, 3), (1, 2), (2, 3)]\n",
    "# [(0, 1), (0, 2), (1, 2), (1, 3), (2, 3)]\n",
    "# [(0, 1), (0, 2), (1, 2), (1, 3), (2, 3)]\n",
    "# [(0, 2), (0, 3), (2, 3)]\n",
    "# [(0, 2), (1, 2), (1, 3), (2, 3)]\n",
    "# [(0, 1), (0, 2), (0, 3), (1, 2)]\n",
    "# [(0, 1), (0, 3), (1, 2), (1, 3), (2, 3)]\n",
    "# [(0, 1), (1, 2), (1, 3), (2, 3)]\n",
    "# [(0, 2), (0, 3), (1, 2), (1, 3), (2, 3)]"
   ]
  },
  {
   "cell_type": "code",
   "execution_count": 127,
   "metadata": {},
   "outputs": [
    {
     "name": "stdout",
     "output_type": "stream",
     "text": [
      "# E []\n"
     ]
    }
   ],
   "source": [
    "rng1 = default_rng(1074)\n",
    "E=Gnp_row_first(4, 0.7, rng1) # []\n",
    "print(\"# E\", E)\n",
    "assert len(E)==0\n",
    " # []"
   ]
  },
  {
   "cell_type": "code",
   "execution_count": 128,
   "metadata": {},
   "outputs": [
    {
     "name": "stdout",
     "output_type": "stream",
     "text": [
      "# E []\n"
     ]
    }
   ],
   "source": [
    "rng1 = default_rng(122)\n",
    "E=Gnp_row_first(6, 0.3, rng1) # []\n",
    "print(\"# E\", E)\n",
    "assert len(E)==0, E\n",
    "# E []"
   ]
  },
  {
   "cell_type": "code",
   "execution_count": 129,
   "metadata": {},
   "outputs": [
    {
     "name": "stdout",
     "output_type": "stream",
     "text": [
      "# E [(0, 1), (0, 2), (0, 3), (1, 2), (1, 3), (2, 3)]\n"
     ]
    }
   ],
   "source": [
    "rng1 = default_rng(16)\n",
    "E = Gnp_row_first(4, 0.7, rng1) # full graph size 4\n",
    "print(\"# E\", E)\n",
    "assert len(E)==6\n",
    "# E [(0, 1), (0, 2), (0, 3), (1, 2), (1, 3), (2, 3)]\n"
   ]
  },
  {
   "cell_type": "code",
   "execution_count": 130,
   "metadata": {},
   "outputs": [
    {
     "name": "stdout",
     "output_type": "stream",
     "text": [
      "# E [(0, 1), (0, 2), (0, 3), (0, 4), (0, 5), (1, 2), (1, 3), (1, 4), (1, 5), (2, 3), (2, 4), (2, 5), (3, 4), (3, 5), (4, 5)]\n"
     ]
    }
   ],
   "source": [
    "rng1 = default_rng(160)\n",
    "E=Gnp_row_first(6, 0.7, rng1) # full graph size 6\n",
    "print(\"# E\", E)\n",
    "assert len(E)==15\n",
    "# E [(0, 1), (0, 2), (0, 3), (0, 4), (0, 5), (1, 2), (1, 3), (1, 4), (1, 5), (2, 3), (2, 4), (2, 5), (3, 4), (3, 5), (4, 5)]\n"
   ]
  },
  {
   "cell_type": "code",
   "execution_count": 131,
   "metadata": {},
   "outputs": [
    {
     "name": "stdout",
     "output_type": "stream",
     "text": [
      "499585\n",
      "CPU times: user 539 ms, sys: 15.2 ms, total: 554 ms\n",
      "Wall time: 592 ms\n"
     ]
    }
   ],
   "source": [
    "%%time\n",
    "# this should not blow up your RAM (full adjacency matrix as numpy ints uses 74.5 GiB; 10^10 entries)\n",
    "# but there are only about 500_000 edges\n",
    "# also this should run reasonably fast\n",
    "E=Gnp_row_first(100000, 0.0001, default_rng(160))\n",
    "print(len(E)) #499585"
   ]
  },
  {
   "cell_type": "markdown",
   "metadata": {},
   "source": [
    "### c) Sampling planted partition models (4)\n",
    "\n",
    "We now combine the sampling functions from a) and b) to create a sampler that samples from a undirected simple planted partition model specified by the sizes of the partitions `ns` and the matrix `P` that specifies the edge probabilities. We sample the necessary sub-blocks in a row first fashion.\n",
    "\n",
    "Pass the random state `rng` towards the functions from a) and b). P is a symmetric matrix."
   ]
  },
  {
   "cell_type": "code",
   "execution_count": 132,
   "metadata": {},
   "outputs": [],
   "source": [
    "def planted_partition(ns, P, rng):\n",
    "    E=[]\n",
    "    for row_idx, n_rows in enumerate(ns):\n",
    "        for col_idx in range(0, row_idx + 1): #iterating only through the lower triangular matrix\n",
    "\n",
    "            row_incr = sum(ns[0:row_idx])\n",
    "            col_incr = sum(ns[0:col_idx])\n",
    "#             print(f\"Checking for p = {p} and matrix of dimensions:{n_rows, n_cols}\")\n",
    "\n",
    "            if(row_idx == col_idx): #for the diagonal\n",
    "                new_edges = Gnp_row_first(n_rows, P[row_idx, col_idx], rng)\n",
    "            else:\n",
    "                new_edges = random_matrix(ns[col_idx], ns[row_idx], P[col_idx, row_idx], rng)\n",
    "            E.extend([(x + col_incr, y + row_incr) for (x,y) in new_edges])\n",
    "    return E"
   ]
  },
  {
   "cell_type": "code",
   "execution_count": 133,
   "metadata": {},
   "outputs": [
    {
     "name": "stdout",
     "output_type": "stream",
     "text": [
      "P\n",
      " [[1.  0.5]\n",
      " [0.5 0.7]]\n",
      "# edges [(0, 1), (0, 2), (0, 4), (1, 3), (1, 4), (2, 3), (2, 4), (3, 4)]\n",
      "\n",
      "# as matrix\n",
      "# [[0 1 1 0 1]\n",
      "#  [0 0 0 1 1]\n",
      "#  [0 0 0 1 1]\n",
      "#  [0 0 0 0 1]\n",
      "#  [0 0 0 0 0]]\n"
     ]
    }
   ],
   "source": [
    "rng1 = default_rng(160)\n",
    "pA=1\n",
    "pB=0.7\n",
    "pAB=0.5\n",
    "P = np.array([[pA, pAB],[pAB,pB]])\n",
    "\n",
    "print(\"P\\n\", P)\n",
    "ns = [2,3]\n",
    "all_edges = planted_partition(ns, P, rng1)\n",
    "\n",
    "print(\"# edges\", all_edges)\n",
    "n=sum(ns)\n",
    "\n",
    "print()\n",
    "print(\"# as matrix\")\n",
    "print(prepend_array(to_array(all_edges, n, n)))\n",
    "# edges [(0, 1), (0, 2), (0, 4), (1, 3), (1, 4), (2, 3), (2, 4), (3, 4)]\n",
    "\n",
    "# as matrix\n",
    "# [[0 1 1 0 1]\n",
    "#  [0 0 0 1 1]\n",
    "#  [0 0 0 1 1]\n",
    "#  [0 0 0 0 1]\n",
    "#  [0 0 0 0 0]]"
   ]
  },
  {
   "cell_type": "code",
   "execution_count": 134,
   "metadata": {},
   "outputs": [
    {
     "name": "stdout",
     "output_type": "stream",
     "text": [
      "P\n",
      " [[0.8 0.3 0.1]\n",
      " [0.3 0.7 0.2]\n",
      " [0.1 0.2 0.6]]\n",
      "# edges [(0, 1), (0, 3), (2, 3), (2, 4), (3, 4), (1, 5), (2, 8), (3, 5), (3, 7), (4, 5), (4, 6), (4, 7), (5, 6), (5, 7), (5, 8), (6, 7)]\n",
      "\n",
      "# as matrix\n",
      "# [[0 1 0 1 0 0 0 0 0]\n",
      "#  [0 0 0 0 0 1 0 0 0]\n",
      "#  [0 0 0 1 1 0 0 0 1]\n",
      "#  [0 0 0 0 1 1 0 1 0]\n",
      "#  [0 0 0 0 0 1 1 1 0]\n",
      "#  [0 0 0 0 0 0 1 1 1]\n",
      "#  [0 0 0 0 0 0 0 1 0]\n",
      "#  [0 0 0 0 0 0 0 0 0]\n",
      "#  [0 0 0 0 0 0 0 0 0]]\n"
     ]
    }
   ],
   "source": [
    "rng1 = default_rng(160)\n",
    "pA=0.8\n",
    "pB=0.7\n",
    "pC=0.6\n",
    "pAB=0.3\n",
    "pAC=0.1\n",
    "pBC=0.2\n",
    "P = np.array([[pA, pAB, pAC], [pAB,pB,pBC], [pAC,pBC,pC]])\n",
    "\n",
    "print(\"P\\n\", P)\n",
    "ns = [2,3,4]\n",
    "all_edges = planted_partition(ns, P, rng1)\n",
    "\n",
    "print(\"# edges\", all_edges)\n",
    "n=sum(ns)\n",
    "\n",
    "print()\n",
    "print(\"# as matrix\")\n",
    "print(prepend_array(to_array(all_edges, n, n)))\n",
    "# edges [(0, 1), (0, 3), (2, 3), (2, 4), (3, 4), (1, 5), (2, 8), (3, 5), (3, 7), (4, 5), (4, 6), (4, 7), (5, 6), (5, 7), (5, 8), (6, 7)]\n",
    "\n",
    "# as matrix\n",
    "# [[0 1 0 1 0 0 0 0 0]\n",
    "#  [0 0 0 0 0 1 0 0 0]\n",
    "#  [0 0 0 1 1 0 0 0 1]\n",
    "#  [0 0 0 0 1 1 0 1 0]\n",
    "#  [0 0 0 0 0 1 1 1 0]\n",
    "#  [0 0 0 0 0 0 1 1 1]\n",
    "#  [0 0 0 0 0 0 0 1 0]\n",
    "#  [0 0 0 0 0 0 0 0 0]\n",
    "#  [0 0 0 0 0 0 0 0 0]]"
   ]
  },
  {
   "cell_type": "markdown",
   "metadata": {},
   "source": [
    "# Task 2: Custom Graph datastructure (13 points)\n",
    "\n",
    "Sometimes graph implementations can seem like magic, but they are usually quite simple. In this task, you are going to reimplement a graph structure that is very similar to the networkx graph interface. In fact it is so similar, that you can use it as a drop in replacement as a graph in many networkx functions which do not require node attributes.\n",
    "\n",
    "We are striving for a graph representation that has space requirements linear in the number of nodes and and edges. In particular using an adjacency matrix as an internal representation is not acceptable. Otherwise to keep things simple we assume, that node labels are integers and thus they are also hashable.\n",
    "\n",
    "\n",
    "### General remarks\n",
    "\n",
    "In priciple writing your own Graph class is not really recommended. Networkx as an example provides some custom hints on how to properly inherit from their Graph class. But for the sake of learning it is actually quite interesting."
   ]
  },
  {
   "cell_type": "code",
   "execution_count": 18,
   "metadata": {},
   "outputs": [],
   "source": [
    "# in networkx you can do both G.edges and G.edges()\n",
    "# to make that work some boilerplate code is required\n",
    "# for the purpose of this assignment it is only necessary that you wrap the output of MyGraph.nodes and MyGraph.edges\n",
    "# in this boilerplate class if you strive for network compatibility\n",
    "\n",
    "class DummyView():\n",
    "    def __init__(self, stuff):\n",
    "        self.stuff = stuff\n",
    "\n",
    "    def __call__(self, data=None, default=None):\n",
    "        if data is None and default is None:\n",
    "            return self\n",
    "        elif isinstance(data, str):\n",
    "            def add_default(tpl):\n",
    "                return (*tpl, default)\n",
    "            return DummyView(map(add_default, self.stuff))\n",
    "        else:\n",
    "            raise NotImplementedError\n",
    "\n",
    "    def __len__(self):\n",
    "        return len(self.stuff)\n",
    "    \n",
    "    def __iter__(self):\n",
    "        return iter(self.stuff)\n",
    "    \n",
    "    def __str__(self):\n",
    "        return f\"Dummyview({str(self.stuff)})\"\n",
    "    def __repr__(self):\n",
    "        return f\"Dummyview({repr(self.stuff)})\""
   ]
  },
  {
   "cell_type": "code",
   "execution_count": 19,
   "metadata": {},
   "outputs": [],
   "source": [
    "class MyGraph:\n",
    "    def __init__(self):\n",
    "        # list for nodes,edges\n",
    "        self._nodes = []\n",
    "        self._edges = []\n",
    "        # self.neighbors = {}\n",
    "        pass\n",
    "\n",
    "\n",
    "### <--- node stuff  --->       \n",
    "    def add_node(self, u):\n",
    "        # check whether u in the nodes list, if not then add\n",
    "        if u not in self._nodes:\n",
    "            return self._nodes.append(u)\n",
    "    \n",
    "    def remove_node(self, u):\n",
    "        # check whether u in the nodes list, if yes then remove\n",
    "        if u in self._nodes:\n",
    "            return self._nodes.remove(u)\n",
    "    \n",
    "    def has_node(self, u):\n",
    "        return u in self._nodes\n",
    "    \n",
    "    def number_of_nodes(self):\n",
    "        return len(self._nodes)\n",
    "    \n",
    "    @property\n",
    "    def nodes(self):\n",
    "        # wrapping return value in DummyView\n",
    "        return DummyView(self._nodes)\n",
    "\n",
    "    ### <--- edge stuff  --->   \n",
    "    def add_edge(self, u, v):\n",
    "        # check whether u,v in the nodes list, if not then add\n",
    "        if ((u,v) in self._edges) or ((v,u) in self._edges):\n",
    "            pass\n",
    "        elif u > v:\n",
    "            self._edges.append((v,u))\n",
    "        else:\n",
    "            self._edges.append((u,v))\n",
    "        self.add_node(u)\n",
    "        self.add_node(v)\n",
    "        return self._edges\n",
    "    \n",
    "    def remove_edge(self, u, v):\n",
    "        if ((u,v) in self._edges) or ((v,u) in self._edges):\n",
    "            if u < v:\n",
    "                self._edges.remove((u,v))\n",
    "            else:\n",
    "                self._edges.remove((v,u))\n",
    "\n",
    "    def has_edge(self, u, v):\n",
    "        return ((u,v) in self._edges) or ((v,u) in self._edges)\n",
    "    \n",
    "    def number_of_edges(self):\n",
    "        return len(self._edges)\n",
    "\n",
    "    @property\n",
    "    def edges(self):\n",
    "        # wrapping return value in DummyView\n",
    "        return DummyView(iter(self._edges))\n",
    "\n",
    "### <--- neighbors  --->  \n",
    "    def neighbors(self, u):\n",
    "        res = []\n",
    "        for m,n in self._edges:\n",
    "            if u == m:\n",
    "                res.append(n)\n",
    "            elif u == n: \n",
    "                res.append(m)\n",
    "        # if u == 1:\n",
    "        #     return iter([0])\n",
    "        # else:\n",
    "        #     return iter([1])\n",
    "        return iter(res)\n",
    "              \n",
    "### <--- below are additional functions required by the networx interface; do NOT touch --->\n",
    "###      these should work if you correctly implemented the above functions\n",
    "    def is_directed(self):\n",
    "        return False\n",
    "    \n",
    "    def is_multigraph(self):\n",
    "        return False    \n",
    "\n",
    "    def __len__(self):\n",
    "        return self.number_of_nodes()\n",
    "    \n",
    "    def __iter__(self):\n",
    "        return iter(self.nodes)\n",
    "    \n",
    "    def to_directed(self):\n",
    "        import networkx as nx\n",
    "        G = nx.DiGraph()\n",
    "        G.add_edges_from(self.edges)\n",
    "        edges2 = [(v,u) for u,v in self.edges]\n",
    "        G.add_edges_from(edges2)\n",
    "        return G\n",
    "    \n",
    "    def __getitem__(self, u):\n",
    "        return {v: {} for v in self.neighbors(u)}\n",
    "    \n",
    "    @property\n",
    "    def adj(self):\n",
    "        # probably not the fastes implementation but a generic one\n",
    "        return {u : self.neighbors(u) for u in self.nodes}\n",
    "    \n",
    "    def nbunch_iter(self, nbunch):\n",
    "        # hacky implementation\n",
    "        return set(self.nodes).intersection(nbunch)\n",
    "    \n",
    "### <--- convenience function --->\n",
    "    def add_edges_from(self, to_add):\n",
    "        for u,v in to_add:\n",
    "            self.add_edge(u,v)"
   ]
  },
  {
   "cell_type": "markdown",
   "metadata": {},
   "source": [
    "### a) Nodes (6)\n",
    "\n",
    "Implement the nodes interface which contains\n",
    "- adding nodes (1)\n",
    "- checking whether a node exists (1)\n",
    "- returning the number of nodes (2) -> be careful, adding potentially also adds nodes\n",
    "- removing nodes (1)\n",
    "- provide a way to list all the nodes (1)"
   ]
  },
  {
   "cell_type": "code",
   "execution_count": 20,
   "metadata": {},
   "outputs": [
    {
     "name": "stdout",
     "output_type": "stream",
     "text": [
      "True\n",
      "1\n"
     ]
    }
   ],
   "source": [
    "G = MyGraph()\n",
    "G.add_node(1)\n",
    "print(G.has_node(1)) # True\n",
    "print(G.number_of_nodes()) # 1"
   ]
  },
  {
   "cell_type": "code",
   "execution_count": 21,
   "metadata": {},
   "outputs": [
    {
     "name": "stdout",
     "output_type": "stream",
     "text": [
      "False\n",
      "0\n"
     ]
    }
   ],
   "source": [
    "G.remove_node(1)\n",
    "print(G.has_node(1)) # False\n",
    "print(G.number_of_nodes()) # 0"
   ]
  },
  {
   "cell_type": "code",
   "execution_count": 22,
   "metadata": {},
   "outputs": [
    {
     "name": "stdout",
     "output_type": "stream",
     "text": [
      "[1, 12]\n"
     ]
    }
   ],
   "source": [
    "G = MyGraph()\n",
    "G.add_node(1)\n",
    "G.add_node(12)\n",
    "print(list(G.nodes))"
   ]
  },
  {
   "cell_type": "markdown",
   "metadata": {},
   "source": [
    "### b) Edges (6)\n",
    "- adding edges (1)\n",
    "- checking whether an edges exists (1)\n",
    "- returning the number of edges (1)\n",
    "- removing edges (1)\n",
    "- provide a way to list all the edges (2), please make sure edges `(u,v)` fulfill `u < v`."
   ]
  },
  {
   "cell_type": "code",
   "execution_count": 23,
   "metadata": {},
   "outputs": [
    {
     "name": "stdout",
     "output_type": "stream",
     "text": [
      "True\n",
      "True\n",
      "1\n",
      "2\n"
     ]
    }
   ],
   "source": [
    "G = MyGraph()\n",
    "G.add_edge(1,2)\n",
    "print(G.has_edge(1,2)) # True\n",
    "print(G.has_edge(2,1)) # True\n",
    "print(G.number_of_edges()) # 1\n",
    "print(G.number_of_nodes()) # 2"
   ]
  },
  {
   "cell_type": "code",
   "execution_count": 24,
   "metadata": {},
   "outputs": [
    {
     "name": "stdout",
     "output_type": "stream",
     "text": [
      "False\n",
      "False\n"
     ]
    }
   ],
   "source": [
    "G.remove_edge(1,2)\n",
    "print(G.has_edge(2,1)) # False\n",
    "print(G.has_edge(1,2)) # False"
   ]
  },
  {
   "cell_type": "markdown",
   "metadata": {},
   "source": [
    "### c) Neighbors (1)\n",
    "Provide a way to iterate over the neighbors of of a given node. To comply with the networkx interface you actually need to wrap the result in an `iter` (in some of the functions networkx actually calls `next(G.neighbors(x))` which throws an error unless `G.neighbors(x)` is an iterator."
   ]
  },
  {
   "cell_type": "code",
   "execution_count": 25,
   "metadata": {},
   "outputs": [],
   "source": [
    "G=MyGraph()\n",
    "G.add_edges_from([(0,1), (1,2), (2,3), (3,0)])"
   ]
  },
  {
   "cell_type": "code",
   "execution_count": 26,
   "metadata": {},
   "outputs": [
    {
     "name": "stdout",
     "output_type": "stream",
     "text": [
      "[0, 2]\n"
     ]
    },
    {
     "data": {
      "text/plain": [
       "0"
      ]
     },
     "execution_count": 26,
     "metadata": {},
     "output_type": "execute_result"
    }
   ],
   "source": [
    "print(list(G.neighbors(1))) # [0,2]\n",
    "next(G.neighbors(1)) # make sure you are returning an iterator"
   ]
  },
  {
   "cell_type": "markdown",
   "metadata": {},
   "source": [
    "### Check some network compatibility\n",
    "\n",
    "Below is some code which uses our `MyGraph` as the input for some networkx functions. I think it is pretty cool to see how little is actually required to make a basic Graph datastructure work.\n",
    "\n",
    "\n",
    " If you think you implemented your code correctly, but it doesn't work it might be because of a different networkx version. We tested on version 2.8."
   ]
  },
  {
   "cell_type": "markdown",
   "metadata": {},
   "source": []
  },
  {
   "cell_type": "code",
   "execution_count": 103,
   "metadata": {},
   "outputs": [
    {
     "name": "stdout",
     "output_type": "stream",
     "text": [
      "2.5\n"
     ]
    }
   ],
   "source": [
    "import networkx as nx\n",
    "print(nx.__version__) # we used 2.8"
   ]
  },
  {
   "cell_type": "code",
   "execution_count": 27,
   "metadata": {},
   "outputs": [],
   "source": [
    "# Create a Wheel Graph\n",
    "n=10\n",
    "G_nx=nx.Graph()\n",
    "G_nx.add_edges_from([(0,i) for i in range(1,n)])\n",
    "G_nx.add_edges_from((i, i+1) for i in range(1,n-1))\n",
    "G_nx.add_edges_from([(n-1, 1)])"
   ]
  },
  {
   "cell_type": "code",
   "execution_count": 28,
   "metadata": {},
   "outputs": [
    {
     "data": {
      "text/plain": [
       "[(0, 1),\n",
       " (0, 2),\n",
       " (0, 3),\n",
       " (0, 4),\n",
       " (0, 5),\n",
       " (0, 6),\n",
       " (0, 7),\n",
       " (0, 8),\n",
       " (0, 9),\n",
       " (1, 2),\n",
       " (1, 9),\n",
       " (2, 3),\n",
       " (3, 4),\n",
       " (4, 5),\n",
       " (5, 6),\n",
       " (6, 7),\n",
       " (7, 8),\n",
       " (8, 9)]"
      ]
     },
     "execution_count": 28,
     "metadata": {},
     "output_type": "execute_result"
    }
   ],
   "source": [
    "list(G_nx.edges)"
   ]
  },
  {
   "cell_type": "code",
   "execution_count": 29,
   "metadata": {},
   "outputs": [
    {
     "data": {
      "image/png": "[encoded data removed]",
      "text/plain": [
       "<Figure size 432x288 with 1 Axes>"
      ]
     },
     "metadata": {},
     "output_type": "display_data"
    }
   ],
   "source": [
    "my_pos = nx.spring_layout(G_nx, seed = 1)\n",
    "nx.draw(G_nx, pos=my_pos)"
   ]
  },
  {
   "cell_type": "code",
   "execution_count": 30,
   "metadata": {},
   "outputs": [],
   "source": [
    "G=MyGraph()\n",
    "G.add_edges_from(G_nx.edges)"
   ]
  },
  {
   "cell_type": "code",
   "execution_count": 31,
   "metadata": {},
   "outputs": [
    {
     "data": {
      "text/plain": [
       "[(0, 1),\n",
       " (0, 2),\n",
       " (0, 3),\n",
       " (0, 4),\n",
       " (0, 5),\n",
       " (0, 6),\n",
       " (0, 7),\n",
       " (0, 8),\n",
       " (0, 9),\n",
       " (1, 2),\n",
       " (1, 9),\n",
       " (2, 3),\n",
       " (3, 4),\n",
       " (4, 5),\n",
       " (5, 6),\n",
       " (6, 7),\n",
       " (7, 8),\n",
       " (8, 9)]"
      ]
     },
     "execution_count": 31,
     "metadata": {},
     "output_type": "execute_result"
    }
   ],
   "source": [
    "list(G.edges)"
   ]
  },
  {
   "cell_type": "code",
   "execution_count": 32,
   "metadata": {},
   "outputs": [
    {
     "data": {
      "image/png": "[encoded data removed]",
      "text/plain": [
       "<Figure size 432x288 with 1 Axes>"
      ]
     },
     "metadata": {},
     "output_type": "display_data"
    }
   ],
   "source": [
    "nx.draw(G, pos=my_pos)"
   ]
  },
  {
   "cell_type": "code",
   "execution_count": 33,
   "metadata": {},
   "outputs": [
    {
     "name": "stdout",
     "output_type": "stream",
     "text": [
      "{0: 0.2324670908094764, 1: 0.08528143435450258, 2: 0.08528143435450258, 3: 0.08528143435450258, 4: 0.08528143435450258, 5: 0.08528143435450258, 6: 0.08528143435450258, 7: 0.08528143435450258, 8: 0.08528143435450258, 9: 0.08528143435450258}\n",
      "{0: 0.4579565456416136, 1: 0.29632485970337064, 2: 0.29632485970337064, 3: 0.29632485970337064, 4: 0.29632485970337064, 5: 0.29632485970337064, 6: 0.29632485970337064, 7: 0.29632485970337064, 8: 0.29632485970337064, 9: 0.29632485970337064}\n",
      "{0: 0.625, 1: 0.013888888888888888, 2: 0.013888888888888888, 3: 0.013888888888888888, 4: 0.013888888888888888, 5: 0.013888888888888888, 6: 0.013888888888888888, 7: 0.013888888888888888, 8: 0.013888888888888888, 9: 0.013888888888888888}\n",
      "{0: 9, 1: 2, 2: 2, 3: 2, 4: 2, 5: 2, 6: 2, 7: 2, 8: 2, 9: 2}\n",
      "0.4\n"
     ]
    }
   ],
   "source": [
    "print(nx.pagerank(G))\n",
    "print(nx.katz_centrality(G))\n",
    "print(nx.betweenness_centrality(G))\n",
    "print(nx.triangles(G))\n",
    "print(nx.density(G))"
   ]
  }
 ],
 "metadata": {
  "kernelspec": {
   "display_name": "Python 3 (ipykernel)",
   "language": "python",
   "name": "python3"
  },
  "language_info": {
   "codemirror_mode": {
    "name": "ipython",
    "version": 3
   },
   "file_extension": ".py",
   "mimetype": "text/x-python",
   "name": "python",
   "nbconvert_exporter": "python",
   "pygments_lexer": "ipython3",
   "version": "3.10.4"
  }
 },
 "nbformat": 4,
 "nbformat_minor": 4
}