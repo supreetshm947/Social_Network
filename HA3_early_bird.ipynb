{
 "cells": [
  {
   "cell_type": "markdown",
   "metadata": {},
   "source": [
    "# Early release of HA3\n",
    "\n",
    "Dear all this is an early release of HA3 so that you already can get going. We will release a more fleshed out version with examples and more text at the beginning of next week."
   ]
  },
  {
   "cell_type": "code",
   "execution_count": null,
   "metadata": {},
   "outputs": [],
   "source": [
    "import numpy as np\n",
    "import pandas as pd"
   ]
  },
  {
   "cell_type": "markdown",
   "metadata": {},
   "source": [
    "##  How Eventnet works\n",
    "\n",
    "\n",
    "The main idea of this task is program the \"core\" of Eventnet. Eventnet naturally offers much more flexibility then what we do below but we restrict us to a very stripped down featureset to keep things simple. We will thus only consider three features already covered in the exercises: `user_activity` (user out degree), `article popularity` (article in degree) and `previous_activity` (edge multiplicity).\n",
    "\n",
    "We have provided you with the \"main loop\" of eventnet below. The core functions to implement are the `update`, `log` and `negative_sample` steps."
   ]
  },
  {
   "cell_type": "code",
   "execution_count": null,
   "metadata": {},
   "outputs": [],
   "source": [
    "def main_loop(df, seed=1, start_row=0, end_row=-1, columns):\n",
    "    net = EventNet_0()\n",
    "    rng = np.random.default_rng(seed)\n",
    "    out_rows = []\n",
    "    for row in df[start_row:end_row].itertuples(): # assumtion the rows are in time increasing order\n",
    "        out_rows.append(net.log(row))\n",
    "        net.update(row)\n",
    "        \n",
    "        fake_row = net.negative_sample(row, rng)\n",
    "        if not fake_row is None:\n",
    "            out_rows.append(fake_row)\n",
    "\n",
    "    df_out = pd.DataFrame.from_records(out_rows, columns = columns)\n",
    "    return df_out, net"
   ]
  },
  {
   "cell_type": "markdown",
   "metadata": {},
   "source": [
    "## a) `update`\n",
    "\n",
    "\n",
    "\n",
    "Choose useful datatypes that support to efficiently keep track of the respective features (user out-degree, article in-degree and edge multiplicity). Further keep track of a list of users and articles where each user/article appears only once. Finally implement the function `update` that updates the features given an observed row (see also the use in the main loop).\n",
    "\n",
    "Throughout this implementation avoid quadratic runtimes in the number of users, articles or events.\n"
   ]
  },
  {
   "cell_type": "markdown",
   "metadata": {},
   "source": [
    "## b) `log`\n",
    "\n",
    "Now create a `log` function that save the features of the provided row. It returns a named tuple of type `out_class` for the correpsponding row by recoding the respective features."
   ]
  },
  {
   "cell_type": "code",
   "execution_count": null,
   "metadata": {},
   "outputs": [],
   "source": [
    "from collections import namedtuple\n",
    "columns = (\"IS_OBSERVED\", \"SOURCE\", \"TARGET\", \"TIME\", \"TYPE\", \"user_activity\", \"article_popularity\", \"previous_activity\" )\n",
    "out_class = namedtuple(\"out_class\", columns)"
   ]
  },
  {
   "cell_type": "markdown",
   "metadata": {},
   "source": [
    "## c) Negative sample\n",
    "\n",
    "Write a function `negative_sample` that draws one negative sample from all possible user/article combinations we have seen so far. Thereby avoid drawing the same user-article combination as the current row through rejection sampling (i.e. keep sampling until you have a valid pair).\n",
    "When drawing user, article pairs first draw the an integer representing the user then an integer representing the article.\n",
    "Return a namedtuple of the same type as b)."
   ]
  },
  {
   "cell_type": "code",
   "execution_count": null,
   "metadata": {},
   "outputs": [],
   "source": [
    "\"\"\"Need to still implement the bulk of this class\"\"\"\n",
    "class EventNet_0:\n",
    "    def __init__(self):\n",
    "        self.users = []\n",
    "        self.articles = []\n",
    "        \"\"\"Choose appropriate datatypes below\"\"\"\n",
    "        self.user_out_degree = None   # choose datatype\n",
    "        self.article_in_degree = None # choose datatype\n",
    "        self.previous_activity = None # choose datatype\n",
    "\n",
    "    def update(self, row):\n",
    "        \"\"\"Your code for a) here\"\"\"\n",
    "        pass\n",
    "\n",
    "    def construct(self, is_observed, user, article, time):\n",
    "        return out_class(is_observed, user, article, time, \"edit\",\n",
    "                    self.user_out_degree[user],\n",
    "                    self.article_in_degree[article],\n",
    "                    self.previous_activity[(user, article)])\n",
    "    \n",
    "    def log(self, row):\n",
    "        \"\"\"Your code for b) here\"\"\"\n",
    "        return out_class(1,1,1,1,\"edit\",1,1,1)\n",
    "\n",
    "    def negative_sample(self, row, rng):\n",
    "        if (len(self.users) * len(self.articles) ) <= 1:\n",
    "            return None\n",
    "        \"\"\"Your code for c) here\"\"\"\n",
    "        return out_class(1,1,1,1,\"edit\",1,1,1)"
   ]
  },
  {
   "cell_type": "markdown",
   "metadata": {},
   "source": [
    "### Example on fake data"
   ]
  },
  {
   "cell_type": "code",
   "execution_count": null,
   "metadata": {},
   "outputs": [],
   "source": [
    "fake_row = namedtuple(\"fake_row\", (\"time\", \"article\", \"user\", ))\n",
    "def row(u,a):\n",
    "    return fake_row(1, a, u)\n",
    "rng1=np.random.default_rng(1)\n",
    "net = EventNet_0()\n",
    "net.update(row(1,-1))\n",
    "net.update(row(1,-2))\n",
    "print(net.log(row(1,-1)))\n",
    "# out_class(IS_OBSERVED=1, SOURCE=1, TARGET=-1, TIME=1, TYPE='edit', user_activity=2, article_popularity=1, previous_activity=1)\n",
    "print(net.log(row(0,-2)))\n",
    "# out_class(IS_OBSERVED=1, SOURCE=0, TARGET=-2, TIME=1, TYPE='edit', user_activity=0, article_popularity=1, previous_activity=0)\n",
    "print(net.negative_sample(row(0,-3), rng1))\n",
    "# out_class(IS_OBSERVED=0, SOURCE=1, TARGET=-1, TIME=1, TYPE='edit', user_activity=2, article_popularity=1, previous_activity=1)\n",
    "print(net.negative_sample(row(0,-3), rng1))\n",
    "# out_class(IS_OBSERVED=0, SOURCE=1, TARGET=-2, TIME=1, TYPE='edit', user_activity=2, article_popularity=1, previous_activity=1)"
   ]
  },
  {
   "cell_type": "markdown",
   "metadata": {},
   "source": [
    "### Example on real data"
   ]
  },
  {
   "cell_type": "code",
   "execution_count": null,
   "metadata": {},
   "outputs": [],
   "source": [
    "from pathlib import Path"
   ]
  },
  {
   "cell_type": "code",
   "execution_count": null,
   "metadata": {},
   "outputs": [],
   "source": [
    "p = Path(r\"YOUR_PATH_TO\\human_migration_events.csv\")"
   ]
  },
  {
   "cell_type": "code",
   "execution_count": null,
   "metadata": {},
   "outputs": [],
   "source": [
    "df = pd.read_csv(p, delimiter=\";\")\n",
    "df = df[df.type ==\"edit\"] # filter for only edit events\n",
    "\n",
    "df_out, net = main_loop(df, columns=columns)"
   ]
  },
  {
   "cell_type": "code",
   "execution_count": null,
   "metadata": {},
   "outputs": [],
   "source": [
    "df.columns\n"
   ]
  },
  {
   "cell_type": "code",
   "execution_count": null,
   "metadata": {},
   "outputs": [],
   "source": [
    "df_out.head(15)\n"
   ]
  },
  {
   "cell_type": "markdown",
   "metadata": {},
   "source": [
    "#### Output should be:\n",
    "\n",
    "\n",
    "<table border=\"1\" class=\"dataframe\">\n",
    "  <thead>\n",
    "    <tr style=\"text-align: right;\">\n",
    "      <th></th>\n",
    "      <th>IS_OBSERVED</th>\n",
    "      <th>SOURCE</th>\n",
    "      <th>TARGET</th>\n",
    "      <th>TIME</th>\n",
    "      <th>TYPE</th>\n",
    "      <th>user_activity</th>\n",
    "      <th>article_popularity</th>\n",
    "      <th>previous_activity</th>\n",
    "    </tr>\n",
    "  </thead>\n",
    "  <tbody>\n",
    "    <tr>\n",
    "      <th>0</th>\n",
    "      <td>1</td>\n",
    "      <td>209.91.204.xxx</td>\n",
    "      <td>Puerto Rico</td>\n",
    "      <td>984868500000</td>\n",
    "      <td>edit</td>\n",
    "      <td>0</td>\n",
    "      <td>0</td>\n",
    "      <td>0</td>\n",
    "    </tr>\n",
    "    <tr>\n",
    "      <th>1</th>\n",
    "      <td>1</td>\n",
    "      <td>TimShell</td>\n",
    "      <td>Puerto Rico</td>\n",
    "      <td>985483241000</td>\n",
    "      <td>edit</td>\n",
    "      <td>0</td>\n",
    "      <td>1</td>\n",
    "      <td>0</td>\n",
    "    </tr>\n",
    "    <tr>\n",
    "      <th>2</th>\n",
    "      <td>1</td>\n",
    "      <td>Koyaanisqatsi</td>\n",
    "      <td>Bermuda</td>\n",
    "      <td>987892807000</td>\n",
    "      <td>edit</td>\n",
    "      <td>0</td>\n",
    "      <td>0</td>\n",
    "      <td>0</td>\n",
    "    </tr>\n",
    "    <tr>\n",
    "      <th>3</th>\n",
    "      <td>0</td>\n",
    "      <td>209.91.204.xxx</td>\n",
    "      <td>Puerto Rico</td>\n",
    "      <td>987892807000</td>\n",
    "      <td>edit</td>\n",
    "      <td>1</td>\n",
    "      <td>2</td>\n",
    "      <td>1</td>\n",
    "    </tr>\n",
    "    <tr>\n",
    "      <th>4</th>\n",
    "      <td>1</td>\n",
    "      <td>Koyaanisqatsi</td>\n",
    "      <td>Bermuda</td>\n",
    "      <td>987895460000</td>\n",
    "      <td>edit</td>\n",
    "      <td>1</td>\n",
    "      <td>1</td>\n",
    "      <td>1</td>\n",
    "    </tr>\n",
    "    <tr>\n",
    "      <th>5</th>\n",
    "      <td>0</td>\n",
    "      <td>TimShell</td>\n",
    "      <td>Puerto Rico</td>\n",
    "      <td>987895460000</td>\n",
    "      <td>edit</td>\n",
    "      <td>1</td>\n",
    "      <td>2</td>\n",
    "      <td>1</td>\n",
    "    </tr>\n",
    "    <tr>\n",
    "      <th>6</th>\n",
    "      <td>1</td>\n",
    "      <td>Koyaanisqatsi</td>\n",
    "      <td>History of Barbados</td>\n",
    "      <td>988030404000</td>\n",
    "      <td>edit</td>\n",
    "      <td>2</td>\n",
    "      <td>0</td>\n",
    "      <td>0</td>\n",
    "    </tr>\n",
    "    <tr>\n",
    "      <th>7</th>\n",
    "      <td>0</td>\n",
    "      <td>TimShell</td>\n",
    "      <td>Bermuda</td>\n",
    "      <td>988030404000</td>\n",
    "      <td>edit</td>\n",
    "      <td>1</td>\n",
    "      <td>2</td>\n",
    "      <td>0</td>\n",
    "    </tr>\n",
    "    <tr>\n",
    "      <th>8</th>\n",
    "      <td>1</td>\n",
    "      <td>Koyaanisqatsi~enwiki</td>\n",
    "      <td>History of the British Virgin Islands</td>\n",
    "      <td>988036307000</td>\n",
    "      <td>edit</td>\n",
    "      <td>0</td>\n",
    "      <td>0</td>\n",
    "      <td>0</td>\n",
    "    </tr>\n",
    "    <tr>\n",
    "      <th>9</th>\n",
    "      <td>0</td>\n",
    "      <td>TimShell</td>\n",
    "      <td>Puerto Rico</td>\n",
    "      <td>988036307000</td>\n",
    "      <td>edit</td>\n",
    "      <td>1</td>\n",
    "      <td>2</td>\n",
    "      <td>1</td>\n",
    "    </tr>\n",
    "    <tr>\n",
    "      <th>10</th>\n",
    "      <td>1</td>\n",
    "      <td>KoyaanisQatsi</td>\n",
    "      <td>History of the Falkland Islands</td>\n",
    "      <td>988551301000</td>\n",
    "      <td>edit</td>\n",
    "      <td>0</td>\n",
    "      <td>0</td>\n",
    "      <td>0</td>\n",
    "    </tr>\n",
    "    <tr>\n",
    "      <th>11</th>\n",
    "      <td>0</td>\n",
    "      <td>209.91.204.xxx</td>\n",
    "      <td>History of the British Virgin Islands</td>\n",
    "      <td>988551301000</td>\n",
    "      <td>edit</td>\n",
    "      <td>1</td>\n",
    "      <td>1</td>\n",
    "      <td>0</td>\n",
    "    </tr>\n",
    "    <tr>\n",
    "      <th>12</th>\n",
    "      <td>1</td>\n",
    "      <td>KoyaanisQatsi</td>\n",
    "      <td>History of French Guiana</td>\n",
    "      <td>988552596000</td>\n",
    "      <td>edit</td>\n",
    "      <td>1</td>\n",
    "      <td>0</td>\n",
    "      <td>0</td>\n",
    "    </tr>\n",
    "    <tr>\n",
    "      <th>13</th>\n",
    "      <td>0</td>\n",
    "      <td>Koyaanisqatsi~enwiki</td>\n",
    "      <td>History of the Falkland Islands</td>\n",
    "      <td>988552596000</td>\n",
    "      <td>edit</td>\n",
    "      <td>1</td>\n",
    "      <td>1</td>\n",
    "      <td>0</td>\n",
    "    </tr>\n",
    "    <tr>\n",
    "      <th>14</th>\n",
    "      <td>1</td>\n",
    "      <td>KoyaanisQatsi</td>\n",
    "      <td>French Guiana</td>\n",
    "      <td>988939007000</td>\n",
    "      <td>edit</td>\n",
    "      <td>2</td>\n",
    "      <td>0</td>\n",
    "      <td>0</td>\n",
    "    </tr>\n",
    "  </tbody>\n",
    "</table>\n"
   ]
  },
  {
   "cell_type": "code",
   "execution_count": null,
   "metadata": {
    "scrolled": false
   },
   "outputs": [],
   "source": [
    "df_out.tail(15)"
   ]
  },
  {
   "cell_type": "markdown",
   "metadata": {},
   "source": [
    "### Output should be:\n",
    "\n",
    "<table border=\"1\" class=\"dataframe\">\n",
    "  <thead>\n",
    "    <tr style=\"text-align: right;\">\n",
    "      <th></th>\n",
    "      <th>IS_OBSERVED</th>\n",
    "      <th>SOURCE</th>\n",
    "      <th>TARGET</th>\n",
    "      <th>TIME</th>\n",
    "      <th>TYPE</th>\n",
    "      <th>user_activity</th>\n",
    "      <th>article_popularity</th>\n",
    "      <th>previous_activity</th>\n",
    "    </tr>\n",
    "  </thead>\n",
    "  <tbody>\n",
    "    <tr>\n",
    "      <th>1633289</th>\n",
    "      <td>0</td>\n",
    "      <td>Kosandr</td>\n",
    "      <td>Operation Black Tulip</td>\n",
    "      <td>1514821157000</td>\n",
    "      <td>edit</td>\n",
    "      <td>1</td>\n",
    "      <td>87</td>\n",
    "      <td>0</td>\n",
    "    </tr>\n",
    "    <tr>\n",
    "      <th>1633290</th>\n",
    "      <td>1</td>\n",
    "      <td>Joe Roe</td>\n",
    "      <td>Recent African origin of modern humans</td>\n",
    "      <td>1514822399000</td>\n",
    "      <td>edit</td>\n",
    "      <td>37</td>\n",
    "      <td>1638</td>\n",
    "      <td>6</td>\n",
    "    </tr>\n",
    "    <tr>\n",
    "      <th>1633291</th>\n",
    "      <td>0</td>\n",
    "      <td>Cj005257</td>\n",
    "      <td>Zahoor ul Akhlaq</td>\n",
    "      <td>1514822399000</td>\n",
    "      <td>edit</td>\n",
    "      <td>1</td>\n",
    "      <td>87</td>\n",
    "      <td>0</td>\n",
    "    </tr>\n",
    "    <tr>\n",
    "      <th>1633292</th>\n",
    "      <td>1</td>\n",
    "      <td>Narky Blert</td>\n",
    "      <td>Ankai Fort</td>\n",
    "      <td>1514825889000</td>\n",
    "      <td>edit</td>\n",
    "      <td>203</td>\n",
    "      <td>61</td>\n",
    "      <td>0</td>\n",
    "    </tr>\n",
    "    <tr>\n",
    "      <th>1633293</th>\n",
    "      <td>0</td>\n",
    "      <td>Parkenator90</td>\n",
    "      <td>History of Paraguay (to 1811)</td>\n",
    "      <td>1514825889000</td>\n",
    "      <td>edit</td>\n",
    "      <td>1</td>\n",
    "      <td>42</td>\n",
    "      <td>0</td>\n",
    "    </tr>\n",
    "    <tr>\n",
    "      <th>1633294</th>\n",
    "      <td>1</td>\n",
    "      <td>Jd22292</td>\n",
    "      <td>Day to Mark the Departure and Expulsion of Jews from the Arab Countries and Iran</td>\n",
    "      <td>1514828866000</td>\n",
    "      <td>edit</td>\n",
    "      <td>13</td>\n",
    "      <td>34</td>\n",
    "      <td>0</td>\n",
    "    </tr>\n",
    "    <tr>\n",
    "      <th>1633295</th>\n",
    "      <td>0</td>\n",
    "      <td>Minsbot</td>\n",
    "      <td>Syed Waseem Hussain</td>\n",
    "      <td>1514828866000</td>\n",
    "      <td>edit</td>\n",
    "      <td>8</td>\n",
    "      <td>22</td>\n",
    "      <td>0</td>\n",
    "    </tr>\n",
    "    <tr>\n",
    "      <th>1633296</th>\n",
    "      <td>1</td>\n",
    "      <td>Balkanique</td>\n",
    "      <td>Iran–Turkey barrier</td>\n",
    "      <td>1514830718000</td>\n",
    "      <td>edit</td>\n",
    "      <td>24</td>\n",
    "      <td>14</td>\n",
    "      <td>10</td>\n",
    "    </tr>\n",
    "    <tr>\n",
    "      <th>1633297</th>\n",
    "      <td>0</td>\n",
    "      <td>Sonia Murillo Perales</td>\n",
    "      <td>Inner emigration</td>\n",
    "      <td>1514830718000</td>\n",
    "      <td>edit</td>\n",
    "      <td>17</td>\n",
    "      <td>26</td>\n",
    "      <td>0</td>\n",
    "    </tr>\n",
    "    <tr>\n",
    "      <th>1633298</th>\n",
    "      <td>1</td>\n",
    "      <td>Jd22292</td>\n",
    "      <td>1948 Palestinian exodus</td>\n",
    "      <td>1514831144000</td>\n",
    "      <td>edit</td>\n",
    "      <td>14</td>\n",
    "      <td>3229</td>\n",
    "      <td>0</td>\n",
    "    </tr>\n",
    "    <tr>\n",
    "      <th>1633299</th>\n",
    "      <td>0</td>\n",
    "      <td>Ledmonkey</td>\n",
    "      <td>City Beautiful movement</td>\n",
    "      <td>1514831144000</td>\n",
    "      <td>edit</td>\n",
    "      <td>1</td>\n",
    "      <td>203</td>\n",
    "      <td>0</td>\n",
    "    </tr>\n",
    "    <tr>\n",
    "      <th>1633300</th>\n",
    "      <td>1</td>\n",
    "      <td>Jd22292</td>\n",
    "      <td>Internally displaced Palestinians</td>\n",
    "      <td>1514831226000</td>\n",
    "      <td>edit</td>\n",
    "      <td>15</td>\n",
    "      <td>145</td>\n",
    "      <td>0</td>\n",
    "    </tr>\n",
    "    <tr>\n",
    "      <th>1633301</th>\n",
    "      <td>0</td>\n",
    "      <td>Zeng8r</td>\n",
    "      <td>Drift to the north</td>\n",
    "      <td>1514831226000</td>\n",
    "      <td>edit</td>\n",
    "      <td>27</td>\n",
    "      <td>8</td>\n",
    "      <td>0</td>\n",
    "    </tr>\n",
    "    <tr>\n",
    "      <th>1633302</th>\n",
    "      <td>1</td>\n",
    "      <td>Hmains</td>\n",
    "      <td>Chittagong Hill Tracts conflict</td>\n",
    "      <td>1514832795000</td>\n",
    "      <td>edit</td>\n",
    "      <td>1899</td>\n",
    "      <td>171</td>\n",
    "      <td>2</td>\n",
    "    </tr>\n",
    "    <tr>\n",
    "      <th>1633303</th>\n",
    "      <td>0</td>\n",
    "      <td>Ammorgan2</td>\n",
    "      <td>Nationality Law of the Democratic People's Republic of Korea</td>\n",
    "      <td>1514832795000</td>\n",
    "      <td>edit</td>\n",
    "      <td>1</td>\n",
    "      <td>36</td>\n",
    "      <td>0</td>\n",
    "    </tr>\n",
    "  </tbody>\n",
    "</table>"
   ]
  },
  {
   "cell_type": "markdown",
   "metadata": {},
   "source": [
    "## Task 2: Evaluation of link prediction\n",
    "\n",
    "In this task you are fist going to implement three link prediction metrics preferential attachment, common neighbors and Jaccard similarity. We then will implement functions needed to compute the ROC/PR curves for a given pairwise score matric and observed adjacency. The final task is then to evaluate these functions on a real world dataset."
   ]
  },
  {
   "cell_type": "code",
   "execution_count": null,
   "metadata": {},
   "outputs": [],
   "source": [
    "import numpy as np\n",
    "from scipy import sparse\n",
    "import matplotlib.pyplot as plt"
   ]
  },
  {
   "cell_type": "code",
   "execution_count": null,
   "metadata": {},
   "outputs": [],
   "source": [
    "A=sparse.random(2000,2000,.005,'coo')\n",
    "A=(A+A.T).tocoo()\n",
    "A.setdiag(np.zeros(2000))"
   ]
  },
  {
   "cell_type": "code",
   "execution_count": null,
   "metadata": {},
   "outputs": [],
   "source": [
    "values = np.ones(len(A.col))\n",
    "values[A.col==A.row]=0\n",
    "A = sparse.coo_matrix((values,(A.col, A.row)), dtype = np.int16)"
   ]
  },
  {
   "cell_type": "code",
   "execution_count": null,
   "metadata": {},
   "outputs": [],
   "source": [
    "A_small_1 = sparse.coo_matrix(([1,1,1], ([0,1,2],[1,2,3])), shape=(4,4) )\n",
    "A_small_1 = (A_small_1+A_small_1.T).tocoo()"
   ]
  },
  {
   "cell_type": "code",
   "execution_count": null,
   "metadata": {},
   "outputs": [],
   "source": [
    "A_small_2 = sparse.coo_matrix(([1,1], ([0,1],[1,2])), shape=(3,3) )\n",
    "A_small_2 = (A_small_2+A_small_2.T).tocoo()"
   ]
  },
  {
   "cell_type": "code",
   "execution_count": null,
   "metadata": {},
   "outputs": [],
   "source": [
    "A_small_3 = sparse.coo_matrix(([1,1,1,1,1], ([0,1,2,3,3],[1,2,3,0,4])), shape=(5,5) )\n",
    "A_small_3 = (A_small_3+A_small_3.T).tocoo()"
   ]
  },
  {
   "cell_type": "code",
   "execution_count": null,
   "metadata": {},
   "outputs": [],
   "source": [
    "A_small_4 = sparse.coo_matrix(([1,1,1,], ([0,1,2],[1,2,0])), shape=(3,3) )\n",
    "A_small_4 = (A_small_4+A_small_4.T).tocoo()"
   ]
  },
  {
   "cell_type": "code",
   "execution_count": null,
   "metadata": {},
   "outputs": [],
   "source": [
    "A_small_5 = sparse.coo_matrix(([1,1,1,1], ([0,1,2,2],[1,2,0,3])), shape=(4,4) )\n",
    "A_small_5 = (A_small_5+A_small_5.T).tocoo()"
   ]
  },
  {
   "cell_type": "code",
   "execution_count": null,
   "metadata": {},
   "outputs": [],
   "source": []
  },
  {
   "cell_type": "markdown",
   "metadata": {},
   "source": [
    "### a) preferential attachment\n",
    "\n",
    "Compute the pairwise preferential attachment score of an adjacency matrix for all pairs of nodes. Assume the matrix describes a simple undirected graph with no self loops. Assume A is an adjacency matrix in sparse coo format. \n",
    "Return a dense (numpy) array of type `np.int16` with zeros on the diagonals."
   ]
  },
  {
   "cell_type": "code",
   "execution_count": null,
   "metadata": {},
   "outputs": [],
   "source": [
    "def preferential_attachment(A):\n",
    "    return np.zeros(A.shape, dtype=np.int16)"
   ]
  },
  {
   "cell_type": "code",
   "execution_count": null,
   "metadata": {},
   "outputs": [],
   "source": [
    "%%time\n",
    "M_pref = preferential_attachment(A)"
   ]
  },
  {
   "cell_type": "code",
   "execution_count": null,
   "metadata": {},
   "outputs": [],
   "source": [
    "del M_pref"
   ]
  },
  {
   "cell_type": "markdown",
   "metadata": {},
   "source": [
    "### b) common neighbors\n",
    "\n",
    "Compute the pairwise common neighbors score of an adjacency matrix for all pairs of nodes. Assume the matrix describes a simple undirected graph with no self loops. Assume A is an adjacency matrix in sparse coo format. \n",
    "Return a dense (numpy) array of type `np.int16` with zeros on the diagonals. "
   ]
  },
  {
   "cell_type": "code",
   "execution_count": null,
   "metadata": {},
   "outputs": [],
   "source": [
    "def common_neighbors(A):\n",
    "    return np.zeros(A.shape, dtype=np.int16)"
   ]
  },
  {
   "cell_type": "code",
   "execution_count": null,
   "metadata": {},
   "outputs": [],
   "source": [
    "%%time\n",
    "M_common=common_neighbors(A)\n"
   ]
  },
  {
   "cell_type": "code",
   "execution_count": null,
   "metadata": {},
   "outputs": [],
   "source": [
    "del M_common"
   ]
  },
  {
   "cell_type": "markdown",
   "metadata": {},
   "source": [
    "### c) Jaccard\n",
    "\n",
    "Compute the pairwise Jaccard score of an adjacency matrix for all pairs of nodes. Assume the matrix describes a simple undirected graph with no self loops. Assume A is an adjacency matrix in sparse coo format. \n",
    "Return a dense (numpy) array of type `np.float16` with zeros on the diagonals. "
   ]
  },
  {
   "cell_type": "code",
   "execution_count": null,
   "metadata": {},
   "outputs": [],
   "source": [
    "def Jaccard(A):\n",
    "    return np.zeros(A.shape, dtype=np.float16)"
   ]
  },
  {
   "cell_type": "code",
   "execution_count": null,
   "metadata": {},
   "outputs": [],
   "source": [
    "M_Jaccard_small_1 = Jaccard(A_small_1)\n",
    "print(M_Jaccard_small_1)"
   ]
  },
  {
   "cell_type": "code",
   "execution_count": null,
   "metadata": {},
   "outputs": [],
   "source": [
    "M_Jaccard_small_2 = Jaccard(A_small_2)\n",
    "print(M_Jaccard_small_2)"
   ]
  },
  {
   "cell_type": "code",
   "execution_count": null,
   "metadata": {},
   "outputs": [],
   "source": [
    "%%time\n",
    "M_Jaccard = Jaccard(A)"
   ]
  },
  {
   "cell_type": "code",
   "execution_count": null,
   "metadata": {},
   "outputs": [],
   "source": [
    "del M_Jaccard"
   ]
  },
  {
   "cell_type": "markdown",
   "metadata": {},
   "source": [
    "#### Helper function\n",
    "\n",
    "Usually the number of different values (i.e. different thresholds) is much smaller than all values in the matrix. The following function counts the number values "
   ]
  },
  {
   "cell_type": "code",
   "execution_count": null,
   "metadata": {},
   "outputs": [],
   "source": [
    "def value_counts(M, additional_keys=None):\n",
    "    if M.dtype.char in np.typecodes['AllInteger']:\n",
    "        keys, vals = value_counts_int(M)\n",
    "    elif M.dtype.char in np.typecodes['Float']:\n",
    "        keys, vals = value_counts_float(M)\n",
    "    else:\n",
    "        raise ValueError(f\"invalid dtype {M.dtype}\")\n",
    "    \n",
    "    if additional_keys is None:\n",
    "        return keys, vals\n",
    "    append_indices = additional_keys>keys[-1]\n",
    "    append_keys = additional_keys[append_indices]\n",
    "    additional_keys=additional_keys[~append_indices]\n",
    "\n",
    "    indices = np.searchsorted(keys, additional_keys)\n",
    "    inds = keys[indices]!=additional_keys\n",
    "    new_indices = indices[inds]\n",
    "    new_values = additional_keys[inds]\n",
    "    out_keys = np.insert(keys, new_indices, new_values)\n",
    "    out_values = np.insert(vals, new_indices, np.zeros(len(new_indices)))\n",
    "    \n",
    "    out_keys = np.append(out_keys, append_keys)\n",
    "    out_values = np.append(out_values, np.zeros(len(append_keys)))\n",
    "    return out_keys, out_values\n"
   ]
  },
  {
   "cell_type": "code",
   "execution_count": null,
   "metadata": {},
   "outputs": [],
   "source": [
    "def value_counts_int(M_in):\n",
    "    counts = np.bincount(M_in.flat)\n",
    "    a = np.nonzero(counts)[0]\n",
    "    return a, counts[a]"
   ]
  },
  {
   "cell_type": "code",
   "execution_count": null,
   "metadata": {},
   "outputs": [],
   "source": [
    "def value_counts_float(M_in):\n",
    "    return np.unique(M_in.flat, return_counts=True)"
   ]
  },
  {
   "cell_type": "markdown",
   "metadata": {},
   "source": [
    "### d) fps tps and thresholds\n",
    "\n",
    "Write a function that computes the true positive counts tps, false positive counts fps and thresholds given the observed adjacency matrix A and pairwise score matrix M. You can compare your results with those from sklearn."
   ]
  },
  {
   "cell_type": "code",
   "execution_count": null,
   "metadata": {},
   "outputs": [],
   "source": [
    "from sklearn.metrics import roc_curve, precision_recall_curve"
   ]
  },
  {
   "cell_type": "code",
   "execution_count": null,
   "metadata": {},
   "outputs": [],
   "source": [
    "def get_fps_tps_thresholds(A, M):\n",
    "    return fps, tps, thresholds"
   ]
  },
  {
   "cell_type": "markdown",
   "metadata": {},
   "source": [
    "### e) roc_curve\n",
    "\n",
    "Implement the function `my_roc_curve` that computes the roc curve for the observed adjacecy matrix `A` and pairwise score matrix `M`. Thereby use the `get_fps_tps_thresholds` function. "
   ]
  },
  {
   "cell_type": "code",
   "execution_count": null,
   "metadata": {},
   "outputs": [],
   "source": [
    "def my_roc_curve(A, M):\n",
    "    \"\"\"Needs implementation, currently returns nonsense values\"\"\"\n",
    "    FPR = np.array([0,1])\n",
    "    TPR = np.array([0,1])\n",
    "    keys = np.array([0,1])\n",
    "    return FPR, TPR, keys"
   ]
  },
  {
   "cell_type": "code",
   "execution_count": null,
   "metadata": {},
   "outputs": [],
   "source": [
    "my_roc_curve(A, Jaccard(A))"
   ]
  },
  {
   "cell_type": "markdown",
   "metadata": {},
   "source": [
    "### f) precision recall curve\n",
    "\n",
    "Write a function that computes the precision recall curve for the pairwise value matrix `M` and the observed adjacency matrix `A`.\n",
    "\n",
    "The function returns two arrays, the first represent the recall values, and the second the corresponding precision values."
   ]
  },
  {
   "cell_type": "code",
   "execution_count": null,
   "metadata": {},
   "outputs": [],
   "source": [
    "def my_pr_curve(A, M):\n",
    "    \"\"\"Needs implementation, currently returns nonsense values\"\"\"\n",
    "    precision=np.array([0,1])\n",
    "    recall=np.array([0,1])\n",
    "    thresholds=np.array([0,1])\n",
    "    return precision, recall, thresholds"
   ]
  },
  {
   "cell_type": "markdown",
   "metadata": {},
   "source": [
    "### Information: There are three different ways to implement the AUC\n",
    "\n",
    "See below for the different options. The one used in the lecture is \"lower\" or \"upper\" depending on the order of values.\n"
   ]
  },
  {
   "cell_type": "code",
   "execution_count": 2,
   "metadata": {},
   "outputs": [],
   "source": [
    "def my_auc(x,y):\n",
    "    s=0\n",
    "    for i in range(1,len(x)+1):\n",
    "        if kind==\"trapezoid\":\n",
    "            s+=(y[i]+y[i-1])* (x[i]-x[i-1])/2\n",
    "        elif kind==\"lower\":\n",
    "            s+=(y[i])* (x[i]-x[i-1])\n",
    "        elif kind == \"upper\":\n",
    "            s+=(y[i-1])* (x[i]-x[i-1])\n",
    "        else:\n",
    "            raise ValueError\n",
    "    return s"
   ]
  },
  {
   "cell_type": "code",
   "execution_count": null,
   "metadata": {},
   "outputs": [],
   "source": []
  },
  {
   "cell_type": "markdown",
   "metadata": {},
   "source": [
    "### g) Applying the functions to real data\n",
    "\n",
    "Apply the functions to the facebook network. Compute average AUC-ROC and AUC-PR for the three different metrics over the first 20 weeks of the data. Learn the pairwise matrix on one week and then evaluate it on the following week."
   ]
  },
  {
   "cell_type": "code",
   "execution_count": null,
   "metadata": {},
   "outputs": [],
   "source": [
    "import pandas as pd\n",
    "import matplotlib.pyplot as plt"
   ]
  },
  {
   "cell_type": "code",
   "execution_count": null,
   "metadata": {},
   "outputs": [],
   "source": [
    "1->2\n",
    "2->3\n",
    "...\n",
    "19->20"
   ]
  },
  {
   "cell_type": "code",
   "execution_count": null,
   "metadata": {},
   "outputs": [],
   "source": []
  },
  {
   "cell_type": "code",
   "execution_count": null,
   "metadata": {},
   "outputs": [],
   "source": []
  },
  {
   "cell_type": "code",
   "execution_count": null,
   "metadata": {},
   "outputs": [],
   "source": []
  },
  {
   "cell_type": "code",
   "execution_count": null,
   "metadata": {},
   "outputs": [],
   "source": []
  },
  {
   "cell_type": "code",
   "execution_count": null,
   "metadata": {},
   "outputs": [],
   "source": []
  }
 ],
 "metadata": {
  "kernelspec": {
   "display_name": "Python 3 (ipykernel)",
   "language": "python",
   "name": "python3"
  },
  "language_info": {
   "codemirror_mode": {
    "name": "ipython",
    "version": 3
   },
   "file_extension": ".py",
   "mimetype": "text/x-python",
   "name": "python",
   "nbconvert_exporter": "python",
   "pygments_lexer": "ipython3",
   "version": "3.10.4"
  }
 },
 "nbformat": 4,
 "nbformat_minor": 4
}
